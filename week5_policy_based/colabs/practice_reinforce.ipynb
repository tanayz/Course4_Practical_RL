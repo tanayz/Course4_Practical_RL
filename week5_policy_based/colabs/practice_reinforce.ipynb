{
  "nbformat": 4,
  "nbformat_minor": 0,
  "metadata": {
    "colab": {
      "name": "practice_reinforce.ipynb",
      "provenance": []
    },
    "kernelspec": {
      "name": "python3",
      "display_name": "Python 3"
    }
  },
  "cells": [
    {
      "cell_type": "markdown",
      "metadata": {
        "id": "uDl6rtyekmmq",
        "colab_type": "text"
      },
      "source": [
        "# REINFORCE in TensorFlow\n",
        "\n",
        "Just like we did before for q-learning, this time we'll design a neural network to learn `CartPole-v0` via policy gradient (REINFORCE)."
      ]
    },
    {
      "cell_type": "code",
      "metadata": {
        "id": "JNSzxB6Ekmmt",
        "colab_type": "code",
        "colab": {
          "base_uri": "https://localhost:8080/",
          "height": 151
        },
        "outputId": "d3ff55d9-d05e-4a9a-e8ff-d7e8ca1a2955"
      },
      "source": [
        "import sys, os\n",
        "if 'google.colab' in sys.modules and not os.path.exists('.setup_complete'):\n",
        "    %tensorflow_version 1.x\n",
        "    \n",
        "    if not os.path.exists('.setup_complete'):\n",
        "        !wget -q https://raw.githubusercontent.com/yandexdataschool/Practical_RL/spring20/setup_colab.sh -O- | bash\n",
        "\n",
        "        !wget -q https://raw.githubusercontent.com/yandexdataschool/Practical_RL/coursera/grading.py -O ../grading.py\n",
        "        !wget -q https://raw.githubusercontent.com/yandexdataschool/Practical_RL/coursera/week5_policy_based/submit.py\n",
        "\n",
        "        !touch .setup_complete\n",
        "\n",
        "# This code creates a virtual display to draw game images on.\n",
        "# It will have no effect if your machine has a monitor.\n",
        "if type(os.environ.get(\"DISPLAY\")) is not str or len(os.environ.get(\"DISPLAY\")) == 0:\n",
        "    !bash ../xvfb start\n",
        "    os.environ['DISPLAY'] = ':1'"
      ],
      "execution_count": 1,
      "outputs": [
        {
          "output_type": "stream",
          "text": [
            "TensorFlow 1.x selected.\n",
            "Selecting previously unselected package xvfb.\n",
            "(Reading database ... 144429 files and directories currently installed.)\n",
            "Preparing to unpack .../xvfb_2%3a1.19.6-1ubuntu4.4_amd64.deb ...\n",
            "Unpacking xvfb (2:1.19.6-1ubuntu4.4) ...\n",
            "Setting up xvfb (2:1.19.6-1ubuntu4.4) ...\n",
            "Processing triggers for man-db (2.8.3-2ubuntu0.1) ...\n",
            "Starting virtual X frame buffer: Xvfb.\n"
          ],
          "name": "stdout"
        }
      ]
    },
    {
      "cell_type": "markdown",
      "metadata": {
        "id": "vYBGarickmm3",
        "colab_type": "text"
      },
      "source": [
        "A caveat: we have received reports that the following cell may crash with `NameError: name 'base' is not defined`. The [suggested workaround](https://www.coursera.org/learn/practical-rl/discussions/all/threads/N2Pw652iEemRYQ6W2GuqHg/replies/te3HpQwOQ62tx6UMDoOt2Q/comments/o08gTqelT9KPIE6npX_S3A) is to install `gym==0.14.0` and `pyglet==1.3.2`."
      ]
    },
    {
      "cell_type": "code",
      "metadata": {
        "id": "4S6x5J8Ikmm4",
        "colab_type": "code",
        "colab": {
          "base_uri": "https://localhost:8080/",
          "height": 286
        },
        "outputId": "89e4dbf1-c021-4347-b9c9-8063fe74efce"
      },
      "source": [
        "import gym\n",
        "import numpy as np\n",
        "import matplotlib.pyplot as plt\n",
        "%matplotlib inline\n",
        "\n",
        "env = gym.make(\"CartPole-v0\")\n",
        "\n",
        "# gym compatibility: unwrap TimeLimit\n",
        "if hasattr(env, '_max_episode_steps'):\n",
        "    env = env.env\n",
        "\n",
        "env.reset()\n",
        "n_actions = env.action_space.n\n",
        "state_dim = env.observation_space.shape\n",
        "\n",
        "plt.imshow(env.render(\"rgb_array\"))"
      ],
      "execution_count": 2,
      "outputs": [
        {
          "output_type": "execute_result",
          "data": {
            "text/plain": [
              "<matplotlib.image.AxesImage at 0x7fcb59d97748>"
            ]
          },
          "metadata": {
            "tags": []
          },
          "execution_count": 2
        },
        {
          "output_type": "display_data",
          "data": {
            "image/png": "[encoded data removed]",
            "text/plain": [
              "<Figure size 432x288 with 1 Axes>"
            ]
          },
          "metadata": {
            "tags": [],
            "needs_background": "light"
          }
        }
      ]
    },
    {
      "cell_type": "markdown",
      "metadata": {
        "id": "MfHldPlSkmm-",
        "colab_type": "text"
      },
      "source": [
        "# Building the network for REINFORCE"
      ]
    },
    {
      "cell_type": "markdown",
      "metadata": {
        "id": "16LYymwUkmm_",
        "colab_type": "text"
      },
      "source": [
        "For REINFORCE algorithm, we'll need a model that predicts action probabilities given states.\n",
        "\n",
        "For numerical stability, please __do not include the softmax layer into your network architecture__.\n",
        "We'll use softmax or log-softmax where appropriate."
      ]
    },
    {
      "cell_type": "code",
      "metadata": {
        "id": "XLHzhwhykmnB",
        "colab_type": "code",
        "colab": {}
      },
      "source": [
        "import tensorflow as tf\n",
        "\n",
        "# create input variables. We only need <s,a,R> for REINFORCE\n",
        "states = tf.placeholder('float32', (None,)+state_dim, name=\"states\")\n",
        "actions = tf.placeholder('int32', name=\"action_ids\")\n",
        "cumulative_rewards = tf.placeholder('float32', name=\"cumulative_returns\")"
      ],
      "execution_count": 0,
      "outputs": []
    },
    {
      "cell_type": "code",
      "metadata": {
        "id": "wDRXoKvzkmnH",
        "colab_type": "code",
        "colab": {
          "base_uri": "https://localhost:8080/",
          "height": 87
        },
        "outputId": "9e663231-e70d-46c7-e8db-8c25ce14184f"
      },
      "source": [
        "\n",
        "#<define network graph using raw tf or any deep learning library>\n",
        "import tensorflow.keras.layers as L\n",
        "\n",
        "\n",
        "network = tf.keras.models.Sequential()\n",
        "network.add(L.Dense(32, activation='relu', input_shape=state_dim))\n",
        "network.add(L.Dense(32, activation='relu'))\n",
        "network.add(L.Dense(n_actions, activation='linear'))\n",
        "\n",
        "logits = network(states) #<linear outputs(symbolic) of your network>\n",
        "\n",
        "policy = tf.nn.softmax(logits)\n",
        "log_policy = tf.nn.log_softmax(logits)"
      ],
      "execution_count": 4,
      "outputs": [
        {
          "output_type": "stream",
          "text": [
            "WARNING:tensorflow:From /tensorflow-1.15.2/python3.6/tensorflow_core/python/ops/resource_variable_ops.py:1630: calling BaseResourceVariable.__init__ (from tensorflow.python.ops.resource_variable_ops) with constraint is deprecated and will be removed in a future version.\n",
            "Instructions for updating:\n",
            "If using Keras pass *_constraint arguments to layers.\n"
          ],
          "name": "stdout"
        }
      ]
    },
    {
      "cell_type": "code",
      "metadata": {
        "id": "Z_rp4s4DkmnL",
        "colab_type": "code",
        "colab": {}
      },
      "source": [
        "# utility function to pick action in one given state\n",
        "def get_action_proba(s):\n",
        "    return policy.eval({states: [s]})[0]"
      ],
      "execution_count": 0,
      "outputs": []
    },
    {
      "cell_type": "markdown",
      "metadata": {
        "id": "JTKjMqZskmnO",
        "colab_type": "text"
      },
      "source": [
        "#### Loss function and updates\n",
        "\n",
        "We now need to define objective and update over policy gradient.\n",
        "\n",
        "Our objective function is\n",
        "\n",
        "$$ J \\approx  { 1 \\over N } \\sum_{s_i,a_i} G(s_i,a_i) $$\n",
        "\n",
        "\n",
        "Following the REINFORCE algorithm, we can define our objective as follows: \n",
        "\n",
        "$$ \\hat J \\approx { 1 \\over N } \\sum_{s_i,a_i} \\log \\pi_\\theta (a_i \\mid s_i) \\cdot G(s_i,a_i) $$\n",
        "\n",
        "When you compute gradient of that function over network weights $ \\theta $, it will become exactly the policy gradient."
      ]
    },
    {
      "cell_type": "code",
      "metadata": {
        "id": "AyYyssvjkmnP",
        "colab_type": "code",
        "colab": {}
      },
      "source": [
        "# select log-probabilities for chosen actions, log pi(a_i|s_i)\n",
        "indices = tf.stack([tf.range(tf.shape(log_policy)[0]), actions], axis=-1)\n",
        "log_policy_for_actions = tf.gather_nd(log_policy, indices)"
      ],
      "execution_count": 0,
      "outputs": []
    },
    {
      "cell_type": "code",
      "metadata": {
        "id": "0JedFSlXkmnS",
        "colab_type": "code",
        "colab": {}
      },
      "source": [
        "# policy objective as in the last formula. please use mean, not sum.\n",
        "# note: you need to use log_policy_for_actions to get log probabilities for actions taken.\n",
        "\n",
        "J = tf.reduce_mean(log_policy_for_actions*cumulative_rewards) #<YOUR CODE>"
      ],
      "execution_count": 0,
      "outputs": []
    },
    {
      "cell_type": "code",
      "metadata": {
        "id": "onEBm4xakmnW",
        "colab_type": "code",
        "colab": {}
      },
      "source": [
        "# regularize with entropy\n",
        "entropy = -tf.reduce_sum(policy*log_policy,1, name=\"entropy\") #<compute entropy. Don't forget the sign!>"
      ],
      "execution_count": 0,
      "outputs": []
    },
    {
      "cell_type": "code",
      "metadata": {
        "id": "hgJGnaCjkmnZ",
        "colab_type": "code",
        "colab": {}
      },
      "source": [
        "# all network weights\n",
        "all_weights = tf.get_collection(tf.GraphKeys.TRAINABLE_VARIABLES) #<a list of all trainable weights in your network>\n",
        "\n",
        "# weight updates. maximizing J is same as minimizing -J. Adding negative entropy.\n",
        "loss = -(J +0.001 * entropy)\n",
        "\n",
        "update = tf.train.AdamOptimizer().minimize(loss, var_list=all_weights)"
      ],
      "execution_count": 0,
      "outputs": []
    },
    {
      "cell_type": "markdown",
      "metadata": {
        "id": "lzflXNwBkmnb",
        "colab_type": "text"
      },
      "source": [
        "### Computing cumulative rewards"
      ]
    },
    {
      "cell_type": "code",
      "metadata": {
        "id": "gLLrhiolkmnc",
        "colab_type": "code",
        "colab": {}
      },
      "source": [
        "\n",
        "from collections import deque\n",
        "\n",
        "def get_cumulative_rewards(rewards,  # rewards at each step\n",
        "                           gamma=0.99  # discount for reward\n",
        "                           ):\n",
        "    \"\"\"\n",
        "    take a list of immediate rewards r(s,a) for the whole session \n",
        "    compute cumulative rewards R(s,a) (a.k.a. G(s,a) in Sutton '16)\n",
        "    R_t = r_t + gamma*r_{t+1} + gamma^2*r_{t+2} + ...\n",
        "\n",
        "    The simple way to compute cumulative rewards is to iterate from last to first time tick\n",
        "    and compute R_t = r_t + gamma*R_{t+1} recurrently\n",
        "\n",
        "    You must return an array/list of cumulative rewards with as many elements as in the initial rewards.\n",
        "    \"\"\"\n",
        "\n",
        "    #<YOUR CODE>\n",
        "    cumulative_rewards = deque([rewards[-1]])\n",
        "    for i in range(len(rewards)-2, -1, -1):\n",
        "        cumulative_rewards.appendleft(rewards[i]+gamma*cumulative_rewards[0])\n",
        "    \n",
        "        \n",
        "    return cumulative_rewards #<YOUR CODE: array of cumulative rewards>"
      ],
      "execution_count": 0,
      "outputs": []
    },
    {
      "cell_type": "code",
      "metadata": {
        "id": "E6sO5Qbhkmnf",
        "colab_type": "code",
        "colab": {
          "base_uri": "https://localhost:8080/",
          "height": 34
        },
        "outputId": "95d12b62-8f6b-4f76-82a2-9680207a40f1"
      },
      "source": [
        "assert len(get_cumulative_rewards(range(100))) == 100\n",
        "assert np.allclose(\n",
        "    get_cumulative_rewards([0, 0, 1, 0, 0, 1, 0], gamma=0.9),\n",
        "    [1.40049, 1.5561, 1.729, 0.81, 0.9, 1.0, 0.0])\n",
        "assert np.allclose(\n",
        "    get_cumulative_rewards([0, 0, 1, -2, 3, -4, 0], gamma=0.5),\n",
        "    [0.0625, 0.125, 0.25, -1.5, 1.0, -4.0, 0.0])\n",
        "assert np.allclose(\n",
        "    get_cumulative_rewards([0, 0, 1, 2, 3, 4, 0], gamma=0),\n",
        "    [0, 0, 1, 2, 3, 4, 0])\n",
        "print(\"looks good!\")"
      ],
      "execution_count": 12,
      "outputs": [
        {
          "output_type": "stream",
          "text": [
            "looks good!\n"
          ],
          "name": "stdout"
        }
      ]
    },
    {
      "cell_type": "code",
      "metadata": {
        "id": "MtMwppUDkmnj",
        "colab_type": "code",
        "colab": {}
      },
      "source": [
        "def train_step(_states, _actions, _rewards):\n",
        "    \"\"\"given full session, trains agent with policy gradient\"\"\"\n",
        "    _cumulative_rewards = get_cumulative_rewards(_rewards)\n",
        "    update.run({states: _states, actions: _actions,\n",
        "                cumulative_rewards: _cumulative_rewards})"
      ],
      "execution_count": 0,
      "outputs": []
    },
    {
      "cell_type": "markdown",
      "metadata": {
        "id": "VgPqsMydkmnm",
        "colab_type": "text"
      },
      "source": [
        "### Playing the game"
      ]
    },
    {
      "cell_type": "code",
      "metadata": {
        "id": "0Egd76BAkmnm",
        "colab_type": "code",
        "colab": {}
      },
      "source": [
        "def generate_session(env, t_max=1000):\n",
        "    \"\"\"play env with REINFORCE agent and train at the session end\"\"\"\n",
        "\n",
        "    # arrays to record session\n",
        "    states, actions, rewards = [], [], []\n",
        "\n",
        "    s = env.reset()\n",
        "\n",
        "    for t in range(t_max):\n",
        "\n",
        "        # action probabilities array aka pi(a|s)\n",
        "        action_probas = get_action_proba(s)\n",
        "\n",
        "        a = np.random.choice(n_actions, 1, p=action_probas)[0]#<pick random action using action_probas>\n",
        "\n",
        "        new_s, r, done, info = env.step(a)\n",
        "\n",
        "        # record session history to train later\n",
        "        states.append(s)\n",
        "        actions.append(a)\n",
        "        rewards.append(r)\n",
        "\n",
        "        s = new_s\n",
        "        if done:\n",
        "            break\n",
        "\n",
        "    train_step(states, actions, rewards)\n",
        "\n",
        "    # technical: return session rewards to print them later\n",
        "    return sum(rewards)"
      ],
      "execution_count": 0,
      "outputs": []
    },
    {
      "cell_type": "code",
      "metadata": {
        "id": "pURdbERdkmnp",
        "colab_type": "code",
        "colab": {
          "base_uri": "https://localhost:8080/",
          "height": 101
        },
        "outputId": "f6836f9f-712a-4584-c2ed-23b60e2e7b3a"
      },
      "source": [
        "s = tf.InteractiveSession()\n",
        "s.run(tf.global_variables_initializer())\n",
        "\n",
        "for i in range(100):\n",
        "\n",
        "    rewards = [generate_session(env) for _ in range(100)]  # generate new sessions\n",
        "\n",
        "    print(\"mean reward:%.3f\" % (np.mean(rewards)))\n",
        "\n",
        "    if np.mean(rewards) > 300:\n",
        "        print(\"You Win!\")  # but you can train even further\n",
        "        break"
      ],
      "execution_count": 16,
      "outputs": [
        {
          "output_type": "stream",
          "text": [
            "mean reward:29.180\n",
            "mean reward:54.820\n",
            "mean reward:229.880\n",
            "mean reward:409.970\n",
            "You Win!\n"
          ],
          "name": "stdout"
        }
      ]
    },
    {
      "cell_type": "markdown",
      "metadata": {
        "id": "dm7KWIFskmnr",
        "colab_type": "text"
      },
      "source": [
        "### Results & video"
      ]
    },
    {
      "cell_type": "code",
      "metadata": {
        "id": "bqZDh5EMkmns",
        "colab_type": "code",
        "colab": {}
      },
      "source": [
        "# Record sessions\n",
        "\n",
        "import gym.wrappers\n",
        "\n",
        "with gym.wrappers.Monitor(gym.make(\"CartPole-v0\"), directory=\"videos\", force=True) as env_monitor:\n",
        "    sessions = [generate_session(env_monitor) for _ in range(100)]"
      ],
      "execution_count": 0,
      "outputs": []
    },
    {
      "cell_type": "code",
      "metadata": {
        "id": "P-zEVng3kmnu",
        "colab_type": "code",
        "colab": {
          "base_uri": "https://localhost:8080/",
          "height": 262
        },
        "outputId": "cf3e7bfa-7070-43f5-e655-3b16c62a3d01"
      },
      "source": [
        "# Show video. This may not work in some setups. If it doesn't\n",
        "# work for you, you can download the videos and view them locally.\n",
        "\n",
        "from pathlib import Path\n",
        "from IPython.display import HTML\n",
        "\n",
        "video_names = sorted([s for s in Path('videos').iterdir() if s.suffix == '.mp4'])\n",
        "\n",
        "HTML(\"\"\"\n",
        "<video width=\"640\" height=\"480\" controls>\n",
        "  <source src=\"{}\" type=\"video/mp4\">\n",
        "</video>\n",
        "\"\"\".format(video_names[-1]))  # You can also try other indices"
      ],
      "execution_count": 23,
      "outputs": [
        {
          "output_type": "stream",
          "text": [
            "ERROR:root:An unexpected error occurred while tokenizing input\n",
            "The following traceback may be corrupted or invalid\n",
            "The error message is: ('EOF in multi-line string', (1, 0))\n",
            "\n"
          ],
          "name": "stderr"
        },
        {
          "output_type": "error",
          "ename": "TypeError",
          "evalue": "ignored",
          "traceback": [
            "\u001b[0;31m---------------------------------------------------------------------------\u001b[0m",
            "\u001b[0;31mTypeError\u001b[0m                                 Traceback (most recent call last)",
            "\u001b[0;32m<ipython-input-23-f2d42a53cfc8>\u001b[0m in \u001b[0;36m<module>\u001b[0;34m()\u001b[0m\n\u001b[1;32m     13\u001b[0m   \u001b[0;34m<\u001b[0m\u001b[0msource\u001b[0m \u001b[0msrc\u001b[0m\u001b[0;34m=\u001b[0m\u001b[0;34m\"{}\"\u001b[0m \u001b[0mtype\u001b[0m\u001b[0;34m=\u001b[0m\u001b[0;34m\"video/mp4\"\u001b[0m\u001b[0;34m>\u001b[0m\u001b[0;34m\u001b[0m\u001b[0;34m\u001b[0m\u001b[0m\n\u001b[1;32m     14\u001b[0m \u001b[0;34m<\u001b[0m\u001b[0;34m/\u001b[0m\u001b[0mvideo\u001b[0m\u001b[0;34m>\u001b[0m\u001b[0;34m\u001b[0m\u001b[0;34m\u001b[0m\u001b[0m\n\u001b[0;32m---> 15\u001b[0;31m \"\"\" % data_url)  # You can also try other indices\n\u001b[0m",
            "\u001b[0;31mTypeError\u001b[0m: not all arguments converted during string formatting"
          ]
        }
      ]
    },
    {
      "cell_type": "code",
      "metadata": {
        "id": "mZWBLI9EYuCK",
        "colab_type": "code",
        "colab": {
          "base_uri": "https://localhost:8080/",
          "height": 288
        },
        "outputId": "bc80083b-2e04-4ea3-e60e-eeb25061dbbe"
      },
      "source": [
        "from IPython.display import HTML\n",
        "from base64 import b64encode\n",
        "mp4 = open(video_names[-1],'rb').read()\n",
        "data_url = \"data:video/mp4;base64,\" + b64encode(mp4).decode()\n",
        "HTML(\"\"\"\n",
        "<video width=400 controls>\n",
        "      <source src=\"%s\" type=\"video/mp4\">\n",
        "</video>\n",
        "\"\"\" % data_url)"
      ],
      "execution_count": 24,
      "outputs": [
        {
          "output_type": "execute_result",
          "data": {
            "text/html": [
              "\n",
              "<video width=400 controls>\n",
              "      <source src=\"data:video/mp4;base64,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\" type=\"video/mp4\">\n",
              "</video>\n"
            ],
            "text/plain": [
              "<IPython.core.display.HTML object>"
            ]
          },
          "metadata": {
            "tags": []
          },
          "execution_count": 24
        }
      ]
    },
    {
      "cell_type": "code",
      "metadata": {
        "id": "YkRrlQBxkmnx",
        "colab_type": "code",
        "colab": {}
      },
      "source": [
        "from submit import submit_cartpole\n",
        "submit_cartpole(generate_session, <EMAIL>, <TOKEN>)"
      ],
      "execution_count": 0,
      "outputs": []
    },
    {
      "cell_type": "code",
      "metadata": {
        "id": "1BSVj55Gkmny",
        "colab_type": "code",
        "colab": {}
      },
      "source": [
        "# That's all, thank you for your attention!\n",
        "# Not having enough? There's an actor-critic waiting for you in the honor section.\n",
        "# But make sure you've seen the videos first."
      ],
      "execution_count": 0,
      "outputs": []
    }
  ]
}